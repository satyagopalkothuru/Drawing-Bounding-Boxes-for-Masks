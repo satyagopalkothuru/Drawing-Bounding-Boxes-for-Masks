{
 "cells": [
  {
   "cell_type": "markdown",
   "id": "5ce48bdf",
   "metadata": {},
   "source": [
    "# Chapter 1"
   ]
  },
  {
   "cell_type": "markdown",
   "id": "28e508fe",
   "metadata": {},
   "source": [
    "### Reading an Image and Resizing"
   ]
  },
  {
   "cell_type": "code",
   "execution_count": 18,
   "id": "c50090c6",
   "metadata": {},
   "outputs": [],
   "source": [
    "import cv2\n",
    "import numpy as np\n",
    "\n",
    "image = cv2.imread(r\"C:\\Users\\Satyagopal Kothuru\\OneDrive\\Desktop\\Dishcare_project\\bowl_and_salad_plate.png\")\n",
    "half = cv2.resize(image, (0, 0), fx = 0.3, fy = 0.3)\n",
    "\n",
    "# original_image = cv2.imread(r\"C:\\Users\\Satyagopal Kothuru\\OneDrive\\Desktop\\Dishcare_project\\original_photo.jpg\")\n",
    "# original_image = cv2.resize(original_image, (0, 0), fx = 0.3, fy = 0.3)\n",
    "\n",
    "# cv2.imshow(\"Annotated Image\", half)\n",
    "# cv2.waitKey(0)\n",
    "# cv2.destroyAllWindows()\n",
    "\n",
    "# cv2.imshow(\"Original Image\", original_image)\n",
    "# cv2.waitKey(0)\n",
    "# cv2.destroyAllWindows()\n",
    "\n",
    "image = half.copy()\n"
   ]
  },
  {
   "cell_type": "markdown",
   "id": "5c03426e",
   "metadata": {},
   "source": [
    "### Extracting all colors in the Image except Background Color (White)"
   ]
  },
  {
   "cell_type": "code",
   "execution_count": 19,
   "id": "74b6ea87",
   "metadata": {},
   "outputs": [],
   "source": [
    "# colors of each pixel in a image \n",
    "all_pixels = list(tuple(pixel) for rows in image for pixel in rows)\n",
    "\n",
    "# unique colors in image\n",
    "unique_colors = list(set(all_pixels))\n",
    "\n",
    "# removing white color i.e., background\n",
    "unique_colors.remove((255,255,255))\n",
    "\n",
    "# for i in unique_colors:\n",
    "#     print(i, all_pixels.count(i))\n"
   ]
  },
  {
   "cell_type": "markdown",
   "id": "4963fa11",
   "metadata": {},
   "source": [
    "### Drawing Bounding Boxes after required operations"
   ]
  },
  {
   "cell_type": "code",
   "execution_count": 20,
   "id": "9585855c",
   "metadata": {},
   "outputs": [
    {
     "name": "stdout",
     "output_type": "stream",
     "text": [
      "(44, 160, 44) : Salad_Plate\n",
      "(180, 119, 31) : Bowl\n",
      "Contours Found: 1\n",
      "Contours Found: 1\n"
     ]
    }
   ],
   "source": [
    "colors = [i for i in unique_colors if all_pixels.count(i)>1000]\n",
    "\n",
    "color_dictionary = {(189, 103, 148) : [\"Glass_Cup\",(255,0,0)],      # glass cup\n",
    "                    (40, 39, 214)   : [\"Mug\",(0,255,0)],            # mug\n",
    "                    (75, 86, 140)   : [\"Spoon\",(0,0,255)],          # spoon\n",
    "                    (44, 160, 44)   : [\"Salad_Plate\",(100,0,0)],    # salad plate\n",
    "                    (180, 119, 31)  : [\"Bowl\",(0,100,0)],           # bowl\n",
    "                    (14, 127, 255)  : [\"Dinner_plate\",(0,0,100)],   # dinner plate\n",
    "                    (194, 119, 227) : [\"Knife\",(255,255,0)],        # knife\n",
    "                    (34, 189, 188)  : [\"Chopsticks\",(255,0,255)],   # chopsticks\n",
    "                    (150, 152, 255) : [\"Chopsticks\",(255,0,255)],   # chopsticks\n",
    "                    (127, 127, 127) : [\"Fork\",(0,255,255)]          # fork\n",
    "                   }\n",
    "for each_color in colors:\n",
    "    print(each_color, \":\", color_dictionary[each_color][0])\n",
    "\n",
    "i=0\n",
    "for each in colors:\n",
    "    img = image.copy()\n",
    "\n",
    "    # all other colors\n",
    "    mask = np.zeros(img.shape[:2], dtype=bool)\n",
    " \n",
    "    mask |= (img == each).all(-1)\n",
    "\n",
    "    img[~mask] = (255,255,255)\n",
    "#     cv2.imshow(\"First Edited Image - Filtering each colors\", img)\n",
    "#     cv2.waitKey(0)\n",
    "#     cv2.destroyAllWindows()\n",
    "    \n",
    "    new_image = img.copy()\n",
    "\n",
    "    gray = cv2.cvtColor(img, cv2.COLOR_BGR2GRAY)\n",
    "#     cv2.imshow('Gray', gray)\n",
    "#     cv2.waitKey(0)\n",
    "#     cv2.destroyAllWindows()\n",
    "    \n",
    "    ret, binary = cv2.threshold(gray, 100, 255, cv2.THRESH_OTSU)\n",
    "\n",
    "    inverted_binary = ~binary\n",
    "#     cv2.imshow('Inverted Binary', inverted_binary)\n",
    "#     cv2.waitKey(0)\n",
    "#     cv2.destroyAllWindows()\n",
    "    \n",
    "    contours, hierarchy = cv2.findContours(inverted_binary, cv2.RETR_TREE, cv2.CHAIN_APPROX_SIMPLE)\n",
    "    with_contours = cv2.drawContours(img, contours, -1,(255,0,255),3)\n",
    "\n",
    "    print('Contours Found:', str(len(contours)))\n",
    "\n",
    "#     first_contour = cv2.drawContours(new_image, contours, 0,(255,0,255),3)\n",
    "#     cv2.imshow('With all contours', with_contours)\n",
    "#     cv2.waitKey(0)\n",
    "#     cv2.destroyAllWindows()\n",
    "\n",
    "    count = 1\n",
    "    for c in contours:\n",
    "        x, y, h, w = cv2.boundingRect(c)\n",
    "        \n",
    "        if (cv2.contourArea(c)) > 1000:\n",
    "            cv2.rectangle(half,(x,y), (x+h,y+w), color_dictionary[each][1], 5)\n",
    "#             cv2.rectangle(original_image,(x,y), (x+h,y+w), color_dictionary[each][1], 5)\n",
    "            font = cv2.FONT_HERSHEY_SIMPLEX\n",
    "            org = (x-10, y-10)\n",
    "            fontScale = 1\n",
    "            thickness = 1\n",
    "            cv2.putText(half, color_dictionary[each][0]+str(count), org, font, fontScale, color_dictionary[each][1], thickness, cv2.LINE_AA)\n",
    "#             cv2.putText(original_image, color_dictionary[each][0]+str(count), org, font, fontScale, color_dictionary[each][1], thickness, cv2.LINE_AA)\n",
    "            count = count+1\n",
    "#     cv2.imshow('Bounding boxes'+str(i), with_contours)\n",
    "#     cv2.waitKey(0)\n",
    "#     cv2.destroyAllWindows()\n",
    "    i = i+1\n",
    "\n",
    "cv2.imshow('Annotated Image with Bounding Boxes', half)\n",
    "# cv2.imshow('Original Image With Bounding Boxes', original_image)\n",
    "cv2.waitKey(0)\n",
    "cv2.destroyAllWindows()"
   ]
  },
  {
   "cell_type": "code",
   "execution_count": null,
   "id": "fc598efc",
   "metadata": {},
   "outputs": [],
   "source": []
  },
  {
   "cell_type": "code",
   "execution_count": null,
   "id": "98e92d3e",
   "metadata": {},
   "outputs": [],
   "source": []
  },
  {
   "cell_type": "code",
   "execution_count": null,
   "id": "41e3b90d",
   "metadata": {},
   "outputs": [],
   "source": []
  },
  {
   "cell_type": "code",
   "execution_count": null,
   "id": "122c5b1c",
   "metadata": {},
   "outputs": [],
   "source": []
  },
  {
   "cell_type": "code",
   "execution_count": 17,
   "id": "3a06c11b",
   "metadata": {},
   "outputs": [
    {
     "name": "stdout",
     "output_type": "stream",
     "text": [
      "['annotated_photo.png', 'bowl_and_salad_plate.png', 'dinner_and_salad_plates.png', 'glass_cup_fork.png', 'mug_chopsticks.png', 'mug_glass_cup.png', 'original_photo.jpg', 'salad_plate_knife.png']\n"
     ]
    }
   ],
   "source": [
    "import os\n",
    "\n",
    "os.chdir(r\"C:\\Users\\Satyagopal Kothuru\\OneDrive\\Desktop\\Dishcare_project\")\n",
    "\n",
    "for root, dirs, files in os.walk('.'):\n",
    "    print(files)\n",
    "    break\n"
   ]
  },
  {
   "cell_type": "code",
   "execution_count": 83,
   "id": "aebac1ff",
   "metadata": {},
   "outputs": [],
   "source": [
    "import cv2\n",
    "import os\n",
    "folder = r\"C:\\Users\\Satyagopal Kothuru\\OneDrive\\Desktop\\Dishcare_project\"\n",
    "def load_images_from_folder(folder):\n",
    "    images = []\n",
    "    for filename in os.listdir(folder):\n",
    "        img = cv2.imread(os.path.join(folder,filename))\n",
    "        if img is not None:\n",
    "            images.append(img)\n",
    "    return images\n",
    "#load_images_from_folder(folder)"
   ]
  },
  {
   "cell_type": "code",
   "execution_count": 27,
   "id": "70484e45",
   "metadata": {},
   "outputs": [],
   "source": [
    "# creating a file for each image to store coordinates of bounding boxes...\n",
    "f = open('image_number.txt', 'w')\n",
    "# f.write(\"{} {} {} {}\".format(x,y,x+w,y+h))\n",
    "f.close()"
   ]
  },
  {
   "cell_type": "code",
   "execution_count": 4,
   "id": "b2480726",
   "metadata": {},
   "outputs": [],
   "source": [
    "# new_image = image.copy()\n",
    "\n",
    "# gray = cv2.cvtColor(image, cv2.COLOR_BGR2GRAY)\n",
    "\n",
    "# ret, binary = cv2.threshold(gray, 100, 255, cv2.THRESH_OTSU)\n",
    "\n",
    "# inverted_binary = ~binary\n",
    "\n",
    "# contours, hierarchy = cv2.findContours(inverted_binary, cv2.RETR_TREE, cv2.CHAIN_APPROX_SIMPLE)\n",
    "# with_contours = cv2.drawContours(image, contours, -1,(255,0,255),3)\n",
    "\n",
    "# print('Total number of contours detected: ' + str(len(contours)))\n",
    " \n",
    "# first_contour = cv2.drawContours(new_image, contours, 0,(255,0,255),3)\n",
    "\n",
    "# x, y, w, h = cv2.boundingRect(contours[0])\n",
    "# cv2.rectangle(first_contour,(x,y), (x+w,y+h), (255,0,0), 5)\n",
    " \n",
    "# for c in contours:\n",
    "#     x, y, w, h = cv2.boundingRect(c)\n",
    "#     if (cv2.contourArea(c)) > 10:\n",
    "#         cv2.rectangle(with_contours,(x,y), (x+w,y+h), (255,0,0), 5)\n",
    "\n",
    "# cv2.imshow('Bounding boxes', with_contours)\n",
    "# cv2.waitKey(0)\n",
    "# cv2.destroyAllWindows()"
   ]
  },
  {
   "cell_type": "code",
   "execution_count": null,
   "id": "ae14647a",
   "metadata": {},
   "outputs": [],
   "source": []
  }
 ],
 "metadata": {
  "kernelspec": {
   "display_name": "Python 3",
   "language": "python",
   "name": "python3"
  },
  "language_info": {
   "codemirror_mode": {
    "name": "ipython",
    "version": 3
   },
   "file_extension": ".py",
   "mimetype": "text/x-python",
   "name": "python",
   "nbconvert_exporter": "python",
   "pygments_lexer": "ipython3",
   "version": "3.8.8"
  }
 },
 "nbformat": 4,
 "nbformat_minor": 5
}
